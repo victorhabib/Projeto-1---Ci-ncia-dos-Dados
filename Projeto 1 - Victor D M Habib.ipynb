{
 "cells": [
  {
   "cell_type": "markdown",
   "metadata": {},
   "source": [
    "# Projeto 1 "
   ]
  },
  {
   "cell_type": "markdown",
   "metadata": {},
   "source": [
    "Nome: Victor Demetrio Morales Habib"
   ]
  },
  {
   "cell_type": "markdown",
   "metadata": {},
   "source": [
    "________________________________________________________________________________________________________________________________"
   ]
  },
  {
   "cell_type": "markdown",
   "metadata": {},
   "source": [
    "15/08\n",
    "\n",
    "- Explorar Gapminder\n",
    "- Escolher variáveis\n",
    "- Ler e juntar\n",
    "- Gravar csv\n",
    "- Formular pergunta\n",
    "\n",
    "23/08\n",
    "\n",
    "- Cruzamento de variáveis\n",
    "- Conclusão baseada nas observações"
   ]
  },
  {
   "cell_type": "markdown",
   "metadata": {},
   "source": [
    "# Introdução"
   ]
  },
  {
   "cell_type": "markdown",
   "metadata": {},
   "source": [
    "Primeiramente, é válido ressaltar que o índice de desenvovimento humano é calculado a partir dos seguintes fatores: expectativa de vida, educação e renda per capita. Dessa forma, analisar dados que não se relacionam diretamente com o IDH foi o que me motivou a realizar essa pesquisa, com o objetivo de compreender um pouco mais sobre esse índice mundial e, até mesmo, validar hipóteses sobre as relações com os fatores escolhidos."
   ]
  },
  {
   "cell_type": "markdown",
   "metadata": {},
   "source": [
    "# Pergunta"
   ]
  },
  {
   "cell_type": "markdown",
   "metadata": {},
   "source": [
    "Será que o grau de acessibilidade à internet e a quantidade de veículos (quantidade do sistema de transporte) em um país afetam o IDH dessa região? Se sim, qual a relação existentente entre esses fatores e quais as possíveis conclusões a partir dessa análise? Além disso, será que os países com maior acesso à internet são os mesmos que apresentam um sistema de transporte desenvolvido?"
   ]
  },
  {
   "cell_type": "markdown",
   "metadata": {},
   "source": [
    "# Hipóteses"
   ]
  },
  {
   "cell_type": "markdown",
   "metadata": {},
   "source": [
    "Para essa pesquisa, foram selecionados dois temas que possivelmente se relacionariam com o IDH. O primeiro deles, 'Internet users', que diz respeito à quantidade de índviduos que tem acesso à internet no país, hipoteticamente teria uma relação direta ao crescimento do IDH, ou seja, quanto maior a acessibilidade do conteúdo digital online em um país, maior o seu IDH. Além disso, o segundo, 'Vehicles', que mostra a razão do número de carros, caminões e ônibus para cada 1000 pessoas em um país, ou seja, a disponibilidade de transporte para a população, hipoteticamente demonstraria o mesmo comportamento do primeiro fator selecionado."
   ]
  },
  {
   "cell_type": "code",
   "execution_count": 528,
   "metadata": {},
   "outputs": [],
   "source": [
    "%matplotlib inline\n",
    "import pandas as pd\n",
    "import numpy as np\n",
    "import math as math\n",
    "from scipy import stats\n",
    "import matplotlib.pyplot as plt\n",
    "import seaborn as sns"
   ]
  },
  {
   "cell_type": "markdown",
   "metadata": {},
   "source": [
    "# Leitura de arquivos"
   ]
  },
  {
   "cell_type": "code",
   "execution_count": 529,
   "metadata": {},
   "outputs": [],
   "source": [
    "IDH = pd.read_excel(\"hdi_human_development_index.xlsx\")\n",
    "\n",
    "Internet = pd.read_excel(\"internet_users.xlsx\")\n",
    "\n",
    "Veiculos = pd.read_excel(\"cars_trucks_and_buses_per_1000_persons.xlsx\")"
   ]
  },
  {
   "cell_type": "markdown",
   "metadata": {},
   "source": [
    "# Dados - 2007"
   ]
  },
  {
   "cell_type": "markdown",
   "metadata": {},
   "source": [
    "Manter apenas os dados coletados em 2007"
   ]
  },
  {
   "cell_type": "code",
   "execution_count": 530,
   "metadata": {},
   "outputs": [],
   "source": [
    "idh_2007 = IDH.loc[:, [\"geo\", 2007]]\n",
    "\n",
    "internet_2007 = Internet.loc[:,[\"geo\", 2007]]\n",
    "\n",
    "veiculos_2007 = Veiculos.loc[:,[\"geo\", 2007]]"
   ]
  },
  {
   "cell_type": "markdown",
   "metadata": {},
   "source": [
    "Renomear e definir a coluna dos países como índice"
   ]
  },
  {
   "cell_type": "code",
   "execution_count": 531,
   "metadata": {},
   "outputs": [],
   "source": [
    "idh_2007.rename(columns={\"geo\": \"Country\"}, inplace = True)\n",
    "idh_idx7=idh_2007.set_index(\"Country\")\n",
    "\n",
    "\n",
    "internet_2007.rename(columns={\"geo\": \"Country\"}, inplace = True)\n",
    "internet_idx7=internet_2007.set_index(\"Country\")\n",
    "\n",
    "\n",
    "veiculos_2007.rename(columns={\"geo\": \"Country\"}, inplace = True)\n",
    "veiculos_idx7=veiculos_2007.set_index(\"Country\")"
   ]
  },
  {
   "cell_type": "code",
   "execution_count": 532,
   "metadata": {},
   "outputs": [],
   "source": [
    "idh_idx7.rename(columns={2007: \"HDI\"},inplace = True)\n",
    "\n",
    "internet_idx7.rename(columns={2007: \"Internet users\"},inplace = True)\n",
    "\n",
    "veiculos_idx7.rename(columns={2007: \"Vehicles\"},inplace = True)"
   ]
  },
  {
   "cell_type": "markdown",
   "metadata": {},
   "source": [
    "# Join"
   ]
  },
  {
   "cell_type": "code",
   "execution_count": 533,
   "metadata": {},
   "outputs": [],
   "source": [
    "df = idh_idx7.join(internet_idx7, how=\"inner\", lsuffix=\"_HDI\", rsuffix=\"_Internet users\")"
   ]
  },
  {
   "cell_type": "code",
   "execution_count": 534,
   "metadata": {},
   "outputs": [],
   "source": [
    "data1 = df.join(veiculos_idx7, how=\"inner\")"
   ]
  },
  {
   "cell_type": "code",
   "execution_count": 535,
   "metadata": {},
   "outputs": [
    {
     "data": {
      "text/html": [
       "<div>\n",
       "<style scoped>\n",
       "    .dataframe tbody tr th:only-of-type {\n",
       "        vertical-align: middle;\n",
       "    }\n",
       "\n",
       "    .dataframe tbody tr th {\n",
       "        vertical-align: top;\n",
       "    }\n",
       "\n",
       "    .dataframe thead th {\n",
       "        text-align: right;\n",
       "    }\n",
       "</style>\n",
       "<table border=\"1\" class=\"dataframe\">\n",
       "  <thead>\n",
       "    <tr style=\"text-align: right;\">\n",
       "      <th></th>\n",
       "      <th>HDI</th>\n",
       "      <th>Internet users</th>\n",
       "      <th>Vehicles</th>\n",
       "    </tr>\n",
       "    <tr>\n",
       "      <th>Country</th>\n",
       "      <th></th>\n",
       "      <th></th>\n",
       "      <th></th>\n",
       "    </tr>\n",
       "  </thead>\n",
       "  <tbody>\n",
       "    <tr>\n",
       "      <th>Burundi</th>\n",
       "      <td>0.319</td>\n",
       "      <td>0.700</td>\n",
       "      <td>5.670</td>\n",
       "    </tr>\n",
       "    <tr>\n",
       "      <th>Central African Republic</th>\n",
       "      <td>0.338</td>\n",
       "      <td>0.376</td>\n",
       "      <td>0.295</td>\n",
       "    </tr>\n",
       "    <tr>\n",
       "      <th>Burkina Faso</th>\n",
       "      <td>0.345</td>\n",
       "      <td>0.750</td>\n",
       "      <td>10.800</td>\n",
       "    </tr>\n",
       "    <tr>\n",
       "      <th>Mali</th>\n",
       "      <td>0.360</td>\n",
       "      <td>0.810</td>\n",
       "      <td>9.220</td>\n",
       "    </tr>\n",
       "    <tr>\n",
       "      <th>Sierra Leone</th>\n",
       "      <td>0.367</td>\n",
       "      <td>0.240</td>\n",
       "      <td>5.210</td>\n",
       "    </tr>\n",
       "    <tr>\n",
       "      <th>Mozambique</th>\n",
       "      <td>0.372</td>\n",
       "      <td>0.910</td>\n",
       "      <td>9.930</td>\n",
       "    </tr>\n",
       "    <tr>\n",
       "      <th>Congo, Dem. Rep.</th>\n",
       "      <td>0.377</td>\n",
       "      <td>0.370</td>\n",
       "      <td>5.000</td>\n",
       "    </tr>\n",
       "    <tr>\n",
       "      <th>Ethiopia</th>\n",
       "      <td>0.378</td>\n",
       "      <td>0.370</td>\n",
       "      <td>3.000</td>\n",
       "    </tr>\n",
       "    <tr>\n",
       "      <th>Liberia</th>\n",
       "      <td>0.394</td>\n",
       "      <td>0.551</td>\n",
       "      <td>2.870</td>\n",
       "    </tr>\n",
       "    <tr>\n",
       "      <th>Guinea-Bissau</th>\n",
       "      <td>0.398</td>\n",
       "      <td>2.210</td>\n",
       "      <td>32.900</td>\n",
       "    </tr>\n",
       "    <tr>\n",
       "      <th>Malawi</th>\n",
       "      <td>0.400</td>\n",
       "      <td>0.966</td>\n",
       "      <td>8.590</td>\n",
       "    </tr>\n",
       "    <tr>\n",
       "      <th>Eritrea</th>\n",
       "      <td>0.406</td>\n",
       "      <td>0.410</td>\n",
       "      <td>11.300</td>\n",
       "    </tr>\n",
       "    <tr>\n",
       "      <th>Zimbabwe</th>\n",
       "      <td>0.421</td>\n",
       "      <td>3.000</td>\n",
       "      <td>106.000</td>\n",
       "    </tr>\n",
       "    <tr>\n",
       "      <th>Gambia</th>\n",
       "      <td>0.426</td>\n",
       "      <td>6.210</td>\n",
       "      <td>7.280</td>\n",
       "    </tr>\n",
       "    <tr>\n",
       "      <th>Afghanistan</th>\n",
       "      <td>0.433</td>\n",
       "      <td>1.900</td>\n",
       "      <td>22.800</td>\n",
       "    </tr>\n",
       "    <tr>\n",
       "      <th>Senegal</th>\n",
       "      <td>0.435</td>\n",
       "      <td>6.890</td>\n",
       "      <td>20.400</td>\n",
       "    </tr>\n",
       "    <tr>\n",
       "      <th>Rwanda</th>\n",
       "      <td>0.438</td>\n",
       "      <td>2.120</td>\n",
       "      <td>3.880</td>\n",
       "    </tr>\n",
       "    <tr>\n",
       "      <th>Togo</th>\n",
       "      <td>0.441</td>\n",
       "      <td>2.200</td>\n",
       "      <td>1.980</td>\n",
       "    </tr>\n",
       "    <tr>\n",
       "      <th>Sudan</th>\n",
       "      <td>0.444</td>\n",
       "      <td>8.660</td>\n",
       "      <td>28.000</td>\n",
       "    </tr>\n",
       "    <tr>\n",
       "      <th>Benin</th>\n",
       "      <td>0.444</td>\n",
       "      <td>1.790</td>\n",
       "      <td>20.600</td>\n",
       "    </tr>\n",
       "    <tr>\n",
       "      <th>Uganda</th>\n",
       "      <td>0.453</td>\n",
       "      <td>3.670</td>\n",
       "      <td>6.500</td>\n",
       "    </tr>\n",
       "    <tr>\n",
       "      <th>Comoros</th>\n",
       "      <td>0.461</td>\n",
       "      <td>2.500</td>\n",
       "      <td>33.500</td>\n",
       "    </tr>\n",
       "    <tr>\n",
       "      <th>Tanzania</th>\n",
       "      <td>0.468</td>\n",
       "      <td>1.600</td>\n",
       "      <td>11.700</td>\n",
       "    </tr>\n",
       "    <tr>\n",
       "      <th>Angola</th>\n",
       "      <td>0.468</td>\n",
       "      <td>1.700</td>\n",
       "      <td>39.600</td>\n",
       "    </tr>\n",
       "    <tr>\n",
       "      <th>Papua New Guinea</th>\n",
       "      <td>0.469</td>\n",
       "      <td>1.790</td>\n",
       "      <td>8.870</td>\n",
       "    </tr>\n",
       "    <tr>\n",
       "      <th>Yemen</th>\n",
       "      <td>0.480</td>\n",
       "      <td>5.010</td>\n",
       "      <td>34.800</td>\n",
       "    </tr>\n",
       "    <tr>\n",
       "      <th>Nigeria</th>\n",
       "      <td>0.481</td>\n",
       "      <td>6.770</td>\n",
       "      <td>30.800</td>\n",
       "    </tr>\n",
       "    <tr>\n",
       "      <th>Nepal</th>\n",
       "      <td>0.492</td>\n",
       "      <td>1.410</td>\n",
       "      <td>5.270</td>\n",
       "    </tr>\n",
       "    <tr>\n",
       "      <th>Myanmar</th>\n",
       "      <td>0.493</td>\n",
       "      <td>0.217</td>\n",
       "      <td>7.070</td>\n",
       "    </tr>\n",
       "    <tr>\n",
       "      <th>Zambia</th>\n",
       "      <td>0.504</td>\n",
       "      <td>4.870</td>\n",
       "      <td>17.700</td>\n",
       "    </tr>\n",
       "    <tr>\n",
       "      <th>...</th>\n",
       "      <td>...</td>\n",
       "      <td>...</td>\n",
       "      <td>...</td>\n",
       "    </tr>\n",
       "    <tr>\n",
       "      <th>Estonia</th>\n",
       "      <td>0.835</td>\n",
       "      <td>66.200</td>\n",
       "      <td>444.000</td>\n",
       "    </tr>\n",
       "    <tr>\n",
       "      <th>Brunei</th>\n",
       "      <td>0.840</td>\n",
       "      <td>44.700</td>\n",
       "      <td>696.000</td>\n",
       "    </tr>\n",
       "    <tr>\n",
       "      <th>Cyprus</th>\n",
       "      <td>0.844</td>\n",
       "      <td>40.800</td>\n",
       "      <td>622.000</td>\n",
       "    </tr>\n",
       "    <tr>\n",
       "      <th>Greece</th>\n",
       "      <td>0.853</td>\n",
       "      <td>35.900</td>\n",
       "      <td>112.000</td>\n",
       "    </tr>\n",
       "    <tr>\n",
       "      <th>Spain</th>\n",
       "      <td>0.854</td>\n",
       "      <td>55.100</td>\n",
       "      <td>601.000</td>\n",
       "    </tr>\n",
       "    <tr>\n",
       "      <th>Czech Republic</th>\n",
       "      <td>0.856</td>\n",
       "      <td>51.900</td>\n",
       "      <td>470.000</td>\n",
       "    </tr>\n",
       "    <tr>\n",
       "      <th>Austria</th>\n",
       "      <td>0.864</td>\n",
       "      <td>69.400</td>\n",
       "      <td>557.000</td>\n",
       "    </tr>\n",
       "    <tr>\n",
       "      <th>Italy</th>\n",
       "      <td>0.866</td>\n",
       "      <td>40.800</td>\n",
       "      <td>677.000</td>\n",
       "    </tr>\n",
       "    <tr>\n",
       "      <th>Slovenia</th>\n",
       "      <td>0.869</td>\n",
       "      <td>56.700</td>\n",
       "      <td>547.000</td>\n",
       "    </tr>\n",
       "    <tr>\n",
       "      <th>South Korea</th>\n",
       "      <td>0.873</td>\n",
       "      <td>78.800</td>\n",
       "      <td>338.000</td>\n",
       "    </tr>\n",
       "    <tr>\n",
       "      <th>Belgium</th>\n",
       "      <td>0.874</td>\n",
       "      <td>64.400</td>\n",
       "      <td>539.000</td>\n",
       "    </tr>\n",
       "    <tr>\n",
       "      <th>Finland</th>\n",
       "      <td>0.876</td>\n",
       "      <td>80.800</td>\n",
       "      <td>559.000</td>\n",
       "    </tr>\n",
       "    <tr>\n",
       "      <th>France</th>\n",
       "      <td>0.877</td>\n",
       "      <td>66.100</td>\n",
       "      <td>601.000</td>\n",
       "    </tr>\n",
       "    <tr>\n",
       "      <th>Israel</th>\n",
       "      <td>0.877</td>\n",
       "      <td>48.100</td>\n",
       "      <td>305.000</td>\n",
       "    </tr>\n",
       "    <tr>\n",
       "      <th>Japan</th>\n",
       "      <td>0.880</td>\n",
       "      <td>74.300</td>\n",
       "      <td>595.000</td>\n",
       "    </tr>\n",
       "    <tr>\n",
       "      <th>Singapore</th>\n",
       "      <td>0.880</td>\n",
       "      <td>69.900</td>\n",
       "      <td>149.000</td>\n",
       "    </tr>\n",
       "    <tr>\n",
       "      <th>Luxembourg</th>\n",
       "      <td>0.887</td>\n",
       "      <td>78.900</td>\n",
       "      <td>512.000</td>\n",
       "    </tr>\n",
       "    <tr>\n",
       "      <th>United Kingdom</th>\n",
       "      <td>0.892</td>\n",
       "      <td>75.100</td>\n",
       "      <td>527.000</td>\n",
       "    </tr>\n",
       "    <tr>\n",
       "      <th>Iceland</th>\n",
       "      <td>0.892</td>\n",
       "      <td>90.600</td>\n",
       "      <td>774.000</td>\n",
       "    </tr>\n",
       "    <tr>\n",
       "      <th>New Zealand</th>\n",
       "      <td>0.894</td>\n",
       "      <td>69.800</td>\n",
       "      <td>729.000</td>\n",
       "    </tr>\n",
       "    <tr>\n",
       "      <th>Canada</th>\n",
       "      <td>0.897</td>\n",
       "      <td>73.200</td>\n",
       "      <td>597.000</td>\n",
       "    </tr>\n",
       "    <tr>\n",
       "      <th>Sweden</th>\n",
       "      <td>0.897</td>\n",
       "      <td>82.000</td>\n",
       "      <td>523.000</td>\n",
       "    </tr>\n",
       "    <tr>\n",
       "      <th>Germany</th>\n",
       "      <td>0.903</td>\n",
       "      <td>75.200</td>\n",
       "      <td>623.000</td>\n",
       "    </tr>\n",
       "    <tr>\n",
       "      <th>United States</th>\n",
       "      <td>0.905</td>\n",
       "      <td>75.000</td>\n",
       "      <td>820.000</td>\n",
       "    </tr>\n",
       "    <tr>\n",
       "      <th>Netherlands</th>\n",
       "      <td>0.905</td>\n",
       "      <td>85.800</td>\n",
       "      <td>503.000</td>\n",
       "    </tr>\n",
       "    <tr>\n",
       "      <th>Denmark</th>\n",
       "      <td>0.906</td>\n",
       "      <td>85.000</td>\n",
       "      <td>466.000</td>\n",
       "    </tr>\n",
       "    <tr>\n",
       "      <th>Ireland</th>\n",
       "      <td>0.908</td>\n",
       "      <td>61.200</td>\n",
       "      <td>537.000</td>\n",
       "    </tr>\n",
       "    <tr>\n",
       "      <th>Switzerland</th>\n",
       "      <td>0.914</td>\n",
       "      <td>77.200</td>\n",
       "      <td>569.000</td>\n",
       "    </tr>\n",
       "    <tr>\n",
       "      <th>Australia</th>\n",
       "      <td>0.921</td>\n",
       "      <td>69.500</td>\n",
       "      <td>653.000</td>\n",
       "    </tr>\n",
       "    <tr>\n",
       "      <th>Norway</th>\n",
       "      <td>0.936</td>\n",
       "      <td>86.900</td>\n",
       "      <td>572.000</td>\n",
       "    </tr>\n",
       "  </tbody>\n",
       "</table>\n",
       "<p>142 rows × 3 columns</p>\n",
       "</div>"
      ],
      "text/plain": [
       "                            HDI  Internet users  Vehicles\n",
       "Country                                                  \n",
       "Burundi                   0.319           0.700     5.670\n",
       "Central African Republic  0.338           0.376     0.295\n",
       "Burkina Faso              0.345           0.750    10.800\n",
       "Mali                      0.360           0.810     9.220\n",
       "Sierra Leone              0.367           0.240     5.210\n",
       "Mozambique                0.372           0.910     9.930\n",
       "Congo, Dem. Rep.          0.377           0.370     5.000\n",
       "Ethiopia                  0.378           0.370     3.000\n",
       "Liberia                   0.394           0.551     2.870\n",
       "Guinea-Bissau             0.398           2.210    32.900\n",
       "Malawi                    0.400           0.966     8.590\n",
       "Eritrea                   0.406           0.410    11.300\n",
       "Zimbabwe                  0.421           3.000   106.000\n",
       "Gambia                    0.426           6.210     7.280\n",
       "Afghanistan               0.433           1.900    22.800\n",
       "Senegal                   0.435           6.890    20.400\n",
       "Rwanda                    0.438           2.120     3.880\n",
       "Togo                      0.441           2.200     1.980\n",
       "Sudan                     0.444           8.660    28.000\n",
       "Benin                     0.444           1.790    20.600\n",
       "Uganda                    0.453           3.670     6.500\n",
       "Comoros                   0.461           2.500    33.500\n",
       "Tanzania                  0.468           1.600    11.700\n",
       "Angola                    0.468           1.700    39.600\n",
       "Papua New Guinea          0.469           1.790     8.870\n",
       "Yemen                     0.480           5.010    34.800\n",
       "Nigeria                   0.481           6.770    30.800\n",
       "Nepal                     0.492           1.410     5.270\n",
       "Myanmar                   0.493           0.217     7.070\n",
       "Zambia                    0.504           4.870    17.700\n",
       "...                         ...             ...       ...\n",
       "Estonia                   0.835          66.200   444.000\n",
       "Brunei                    0.840          44.700   696.000\n",
       "Cyprus                    0.844          40.800   622.000\n",
       "Greece                    0.853          35.900   112.000\n",
       "Spain                     0.854          55.100   601.000\n",
       "Czech Republic            0.856          51.900   470.000\n",
       "Austria                   0.864          69.400   557.000\n",
       "Italy                     0.866          40.800   677.000\n",
       "Slovenia                  0.869          56.700   547.000\n",
       "South Korea               0.873          78.800   338.000\n",
       "Belgium                   0.874          64.400   539.000\n",
       "Finland                   0.876          80.800   559.000\n",
       "France                    0.877          66.100   601.000\n",
       "Israel                    0.877          48.100   305.000\n",
       "Japan                     0.880          74.300   595.000\n",
       "Singapore                 0.880          69.900   149.000\n",
       "Luxembourg                0.887          78.900   512.000\n",
       "United Kingdom            0.892          75.100   527.000\n",
       "Iceland                   0.892          90.600   774.000\n",
       "New Zealand               0.894          69.800   729.000\n",
       "Canada                    0.897          73.200   597.000\n",
       "Sweden                    0.897          82.000   523.000\n",
       "Germany                   0.903          75.200   623.000\n",
       "United States             0.905          75.000   820.000\n",
       "Netherlands               0.905          85.800   503.000\n",
       "Denmark                   0.906          85.000   466.000\n",
       "Ireland                   0.908          61.200   537.000\n",
       "Switzerland               0.914          77.200   569.000\n",
       "Australia                 0.921          69.500   653.000\n",
       "Norway                    0.936          86.900   572.000\n",
       "\n",
       "[142 rows x 3 columns]"
      ]
     },
     "execution_count": 535,
     "metadata": {},
     "output_type": "execute_result"
    }
   ],
   "source": [
    "data1.sort_values(by='HDI', ascending=True).dropna()"
   ]
  },
  {
   "cell_type": "code",
   "execution_count": 536,
   "metadata": {},
   "outputs": [
    {
     "data": {
      "text/html": [
       "<div>\n",
       "<style scoped>\n",
       "    .dataframe tbody tr th:only-of-type {\n",
       "        vertical-align: middle;\n",
       "    }\n",
       "\n",
       "    .dataframe tbody tr th {\n",
       "        vertical-align: top;\n",
       "    }\n",
       "\n",
       "    .dataframe thead th {\n",
       "        text-align: right;\n",
       "    }\n",
       "</style>\n",
       "<table border=\"1\" class=\"dataframe\">\n",
       "  <thead>\n",
       "    <tr style=\"text-align: right;\">\n",
       "      <th></th>\n",
       "      <th>HDI</th>\n",
       "      <th>Internet users</th>\n",
       "      <th>Vehicles</th>\n",
       "    </tr>\n",
       "    <tr>\n",
       "      <th>Country</th>\n",
       "      <th></th>\n",
       "      <th></th>\n",
       "      <th></th>\n",
       "    </tr>\n",
       "  </thead>\n",
       "  <tbody>\n",
       "    <tr>\n",
       "      <th>Burundi</th>\n",
       "      <td>0.319</td>\n",
       "      <td>0.700</td>\n",
       "      <td>5.670</td>\n",
       "    </tr>\n",
       "    <tr>\n",
       "      <th>Central African Republic</th>\n",
       "      <td>0.338</td>\n",
       "      <td>0.376</td>\n",
       "      <td>0.295</td>\n",
       "    </tr>\n",
       "    <tr>\n",
       "      <th>Burkina Faso</th>\n",
       "      <td>0.345</td>\n",
       "      <td>0.750</td>\n",
       "      <td>10.800</td>\n",
       "    </tr>\n",
       "    <tr>\n",
       "      <th>Mali</th>\n",
       "      <td>0.360</td>\n",
       "      <td>0.810</td>\n",
       "      <td>9.220</td>\n",
       "    </tr>\n",
       "    <tr>\n",
       "      <th>Sierra Leone</th>\n",
       "      <td>0.367</td>\n",
       "      <td>0.240</td>\n",
       "      <td>5.210</td>\n",
       "    </tr>\n",
       "  </tbody>\n",
       "</table>\n",
       "</div>"
      ],
      "text/plain": [
       "                            HDI  Internet users  Vehicles\n",
       "Country                                                  \n",
       "Burundi                   0.319           0.700     5.670\n",
       "Central African Republic  0.338           0.376     0.295\n",
       "Burkina Faso              0.345           0.750    10.800\n",
       "Mali                      0.360           0.810     9.220\n",
       "Sierra Leone              0.367           0.240     5.210"
      ]
     },
     "execution_count": 536,
     "metadata": {},
     "output_type": "execute_result"
    }
   ],
   "source": [
    "dados.head()"
   ]
  },
  {
   "cell_type": "code",
   "execution_count": 537,
   "metadata": {},
   "outputs": [
    {
     "data": {
      "text/html": [
       "<div>\n",
       "<style scoped>\n",
       "    .dataframe tbody tr th:only-of-type {\n",
       "        vertical-align: middle;\n",
       "    }\n",
       "\n",
       "    .dataframe tbody tr th {\n",
       "        vertical-align: top;\n",
       "    }\n",
       "\n",
       "    .dataframe thead th {\n",
       "        text-align: right;\n",
       "    }\n",
       "</style>\n",
       "<table border=\"1\" class=\"dataframe\">\n",
       "  <thead>\n",
       "    <tr style=\"text-align: right;\">\n",
       "      <th></th>\n",
       "      <th>HDI</th>\n",
       "      <th>Internet users</th>\n",
       "      <th>Vehicles</th>\n",
       "    </tr>\n",
       "    <tr>\n",
       "      <th>Country</th>\n",
       "      <th></th>\n",
       "      <th></th>\n",
       "      <th></th>\n",
       "    </tr>\n",
       "  </thead>\n",
       "  <tbody>\n",
       "    <tr>\n",
       "      <th>Denmark</th>\n",
       "      <td>0.906</td>\n",
       "      <td>85.0</td>\n",
       "      <td>466.0</td>\n",
       "    </tr>\n",
       "    <tr>\n",
       "      <th>Ireland</th>\n",
       "      <td>0.908</td>\n",
       "      <td>61.2</td>\n",
       "      <td>537.0</td>\n",
       "    </tr>\n",
       "    <tr>\n",
       "      <th>Switzerland</th>\n",
       "      <td>0.914</td>\n",
       "      <td>77.2</td>\n",
       "      <td>569.0</td>\n",
       "    </tr>\n",
       "    <tr>\n",
       "      <th>Australia</th>\n",
       "      <td>0.921</td>\n",
       "      <td>69.5</td>\n",
       "      <td>653.0</td>\n",
       "    </tr>\n",
       "    <tr>\n",
       "      <th>Norway</th>\n",
       "      <td>0.936</td>\n",
       "      <td>86.9</td>\n",
       "      <td>572.0</td>\n",
       "    </tr>\n",
       "  </tbody>\n",
       "</table>\n",
       "</div>"
      ],
      "text/plain": [
       "               HDI  Internet users  Vehicles\n",
       "Country                                     \n",
       "Denmark      0.906            85.0     466.0\n",
       "Ireland      0.908            61.2     537.0\n",
       "Switzerland  0.914            77.2     569.0\n",
       "Australia    0.921            69.5     653.0\n",
       "Norway       0.936            86.9     572.0"
      ]
     },
     "execution_count": 537,
     "metadata": {},
     "output_type": "execute_result"
    }
   ],
   "source": [
    "dados.tail()"
   ]
  },
  {
   "cell_type": "markdown",
   "metadata": {},
   "source": [
    "Por mais que apresente algumas irregularidades, ao comparar os países com piores índices de desenvolvimento humano com os países com os melhores, observa-se que há um considerável aumento nos fatores 'Internet users' e 'Vehicles'."
   ]
  },
  {
   "cell_type": "markdown",
   "metadata": {},
   "source": [
    "# Medidas descritivas"
   ]
  },
  {
   "cell_type": "markdown",
   "metadata": {},
   "source": [
    "# HDI"
   ]
  },
  {
   "cell_type": "code",
   "execution_count": 538,
   "metadata": {
    "scrolled": false
   },
   "outputs": [
    {
     "data": {
      "text/plain": [
       "count    154.000000\n",
       "mean       0.673714\n",
       "std        0.166664\n",
       "min        0.298000\n",
       "25%        0.530250\n",
       "50%        0.704000\n",
       "75%        0.810000\n",
       "max        0.936000\n",
       "Name: HDI, dtype: float64"
      ]
     },
     "execution_count": 538,
     "metadata": {},
     "output_type": "execute_result"
    }
   ],
   "source": [
    "data1[\"HDI\"].describe()"
   ]
  },
  {
   "cell_type": "markdown",
   "metadata": {},
   "source": [
    "Percebe-se que a média do IDH (mean) era menor que a mediana (50%). Isso mostra que os países estavam razoalmente desenvolvidos, mas haviam algumas nações que apresentavam dados muito baixos, sendo responsáveis por abaixar a média. "
   ]
  },
  {
   "cell_type": "markdown",
   "metadata": {},
   "source": [
    "# Internet Users"
   ]
  },
  {
   "cell_type": "code",
   "execution_count": 539,
   "metadata": {},
   "outputs": [
    {
     "data": {
      "text/plain": [
       "count    156.000000\n",
       "mean      25.621135\n",
       "std       25.698711\n",
       "min        0.217000\n",
       "25%        4.817500\n",
       "50%       16.000000\n",
       "75%       40.800000\n",
       "max       90.600000\n",
       "Name: Internet users, dtype: float64"
      ]
     },
     "execution_count": 539,
     "metadata": {},
     "output_type": "execute_result"
    }
   ],
   "source": [
    "data1[\"Internet users\"].describe()"
   ]
  },
  {
   "cell_type": "markdown",
   "metadata": {},
   "source": [
    "Percebe-se que a média da quantidade de indivíduos com acesso a internet (mean) era muito maior que a mediana (50%). Isso mostra que os países não tinham um acesso à internet tão facilitado quanto hoje, mas haviam algumas nações que apresentavam dados muito altos, sendo responsáveis por aumentar a média. "
   ]
  },
  {
   "cell_type": "markdown",
   "metadata": {},
   "source": [
    "# Vehicles"
   ]
  },
  {
   "cell_type": "code",
   "execution_count": 540,
   "metadata": {},
   "outputs": [
    {
     "data": {
      "text/plain": [
       "count    144.000000\n",
       "mean     210.673299\n",
       "std      222.929216\n",
       "min        0.295000\n",
       "25%       32.150000\n",
       "50%      115.000000\n",
       "75%      357.500000\n",
       "max      820.000000\n",
       "Name: Vehicles, dtype: float64"
      ]
     },
     "execution_count": 540,
     "metadata": {},
     "output_type": "execute_result"
    }
   ],
   "source": [
    "data1[\"Vehicles\"].describe()"
   ]
  },
  {
   "cell_type": "markdown",
   "metadata": {},
   "source": [
    "Percebe-se que a média do número de veículos disponíveis a cada 1000 pessoas (mean) era muito maior que a mediana (50%). Isso mostra que os países não detinham um sistema de transporte muito amplo ou desenvolvido, mas haviam algumas nações que apresentavam dados muito altos, sendo responsáveis por aumentar a média. "
   ]
  },
  {
   "cell_type": "markdown",
   "metadata": {},
   "source": [
    "# Gráficos de Dispersão e Correlação"
   ]
  },
  {
   "cell_type": "markdown",
   "metadata": {},
   "source": [
    "HDI x Internet Users"
   ]
  },
  {
   "cell_type": "code",
   "execution_count": 541,
   "metadata": {},
   "outputs": [
    {
     "data": {
      "image/png": "[encoded data removed]",
      "text/plain": [
       "<matplotlib.figure.Figure at 0x2598b4709b0>"
      ]
     },
     "metadata": {},
     "output_type": "display_data"
    }
   ],
   "source": [
    "data1.plot.scatter(x='Internet users', y='HDI');\n",
    "plt.title('Gráfico de Dispersão');\n",
    "plt.grid(True);\n"
   ]
  },
  {
   "cell_type": "code",
   "execution_count": 542,
   "metadata": {},
   "outputs": [
    {
     "name": "stdout",
     "output_type": "stream",
     "text": [
      "Ajuste linear entre X3 e X4:\n",
      "Coeficiente linear: 0.5362169483306735\n",
      "Coeficiente angular: 0.005366559266311734\n"
     ]
    },
    {
     "data": {
      "image/png": "[encoded data removed]",
      "text/plain": [
       "<matplotlib.figure.Figure at 0x2598c885860>"
      ]
     },
     "metadata": {},
     "output_type": "display_data"
    },
    {
     "name": "stdout",
     "output_type": "stream",
     "text": [
      "None\n"
     ]
    }
   ],
   "source": [
    "def reta(dados_x, dados_y):    \n",
    "    a = dados_y.cov(dados_x) / dados_x.var()\n",
    "    b = dados_y.mean() - a*dados_x.mean()\n",
    " \n",
    "    print('Ajuste linear entre X3 e X4:')\n",
    "    print('Coeficiente linear:', b)\n",
    "    print('Coeficiente angular:', a)\n",
    " \n",
    "    fig = plt.figure(figsize=(8, 6))\n",
    "    plt.scatter(dados_x, dados_y, c='red', alpha=0.8)\n",
    "    plt.title('Gráfico de Correlação')\n",
    "    plt.xlabel('Internet users')\n",
    "    plt.ylabel('HDI')\n",
    " \n",
    "    plt.plot((dados_x.min(), dados_x.max()), (a*dados_x.min()+b, a*dados_x.max()+b), color='blue')\n",
    " \n",
    "    plt.grid(True)\n",
    "    plt.tight_layout()\n",
    "    plt.show()\n",
    "    \n",
    "print (reta(data1['Internet users'], data1['HDI']))"
   ]
  },
  {
   "cell_type": "markdown",
   "metadata": {},
   "source": [
    "Taxa de correlação"
   ]
  },
  {
   "cell_type": "code",
   "execution_count": 543,
   "metadata": {},
   "outputs": [
    {
     "data": {
      "text/plain": [
       "0.826129183703569"
      ]
     },
     "execution_count": 543,
     "metadata": {},
     "output_type": "execute_result"
    }
   ],
   "source": [
    "data1['HDI'].corr(data1['Internet users'])"
   ]
  },
  {
   "cell_type": "markdown",
   "metadata": {},
   "source": [
    "________________________________________________________________________________________________________________________________"
   ]
  },
  {
   "cell_type": "markdown",
   "metadata": {},
   "source": [
    "HDI x Vehicles"
   ]
  },
  {
   "cell_type": "code",
   "execution_count": 544,
   "metadata": {
    "scrolled": true
   },
   "outputs": [
    {
     "data": {
      "image/png": "[encoded data removed]",
      "text/plain": [
       "<matplotlib.figure.Figure at 0x25989ea1748>"
      ]
     },
     "metadata": {},
     "output_type": "display_data"
    }
   ],
   "source": [
    "data1.plot.scatter(x='Vehicles', y='HDI');\n",
    "plt.title('Gráfico de Dispersão');\n",
    "plt.grid(True);"
   ]
  },
  {
   "cell_type": "code",
   "execution_count": 545,
   "metadata": {},
   "outputs": [
    {
     "name": "stdout",
     "output_type": "stream",
     "text": [
      "Ajuste linear entre X3 e X4:\n",
      "Coeficiente linear: 0.5459262552940168\n",
      "Coeficiente angular: 0.0006065696567278675\n"
     ]
    },
    {
     "data": {
      "image/png": "[encoded data removed]",
      "text/plain": [
       "<matplotlib.figure.Figure at 0x25989c18198>"
      ]
     },
     "metadata": {},
     "output_type": "display_data"
    },
    {
     "name": "stdout",
     "output_type": "stream",
     "text": [
      "None\n"
     ]
    }
   ],
   "source": [
    "def reta(dados_x, dados_y):    \n",
    "    a = dados_y.cov(dados_x) / dados_x.var()\n",
    "    b = dados_y.mean() - a*dados_x.mean()\n",
    " \n",
    "    print('Ajuste linear entre X3 e X4:')\n",
    "    print('Coeficiente linear:', b)\n",
    "    print('Coeficiente angular:', a)\n",
    " \n",
    "    fig = plt.figure(figsize=(8, 6))\n",
    "    plt.scatter(dados_x, dados_y, c='red', alpha=0.8)\n",
    "    plt.title('Gráfico de Correlação')\n",
    "    plt.xlabel('Vehicles')\n",
    "    plt.ylabel('HDI')\n",
    " \n",
    "    plt.plot((dados_x.min(), dados_x.max()), (a*dados_x.min()+b, a*dados_x.max()+b), color='blue')\n",
    " \n",
    "    plt.grid(True)\n",
    "    plt.tight_layout()\n",
    "    plt.show()\n",
    "    \n",
    "print (reta(data1['Vehicles'], data1['HDI']))"
   ]
  },
  {
   "cell_type": "markdown",
   "metadata": {},
   "source": [
    "Taxa de correlação"
   ]
  },
  {
   "cell_type": "code",
   "execution_count": 546,
   "metadata": {},
   "outputs": [
    {
     "data": {
      "text/plain": [
       "0.8062395823637301"
      ]
     },
     "execution_count": 546,
     "metadata": {},
     "output_type": "execute_result"
    }
   ],
   "source": [
    "data1['HDI'].corr(data1['Vehicles'])"
   ]
  },
  {
   "cell_type": "markdown",
   "metadata": {},
   "source": [
    "________________________________________________________________________________________________________________________________"
   ]
  },
  {
   "cell_type": "markdown",
   "metadata": {},
   "source": [
    "Internet users x Vehicles"
   ]
  },
  {
   "cell_type": "code",
   "execution_count": 547,
   "metadata": {},
   "outputs": [
    {
     "data": {
      "image/png": "[encoded data removed]",
      "text/plain": [
       "<matplotlib.figure.Figure at 0x2598c97f080>"
      ]
     },
     "metadata": {},
     "output_type": "display_data"
    }
   ],
   "source": [
    "data1.plot.scatter(x='Vehicles', y='Internet users');\n",
    "plt.title('Gráfico de Dispersão');\n",
    "plt.grid(True);"
   ]
  },
  {
   "cell_type": "code",
   "execution_count": 548,
   "metadata": {},
   "outputs": [
    {
     "name": "stdout",
     "output_type": "stream",
     "text": [
      "Ajuste linear entre X3 e X4:\n",
      "Coeficiente linear: 4.091515528256114\n",
      "Coeficiente angular: 0.10219434180347048\n"
     ]
    },
    {
     "data": {
      "image/png": "[encoded data removed]",
      "text/plain": [
       "<matplotlib.figure.Figure at 0x2598ba90cf8>"
      ]
     },
     "metadata": {},
     "output_type": "display_data"
    },
    {
     "name": "stdout",
     "output_type": "stream",
     "text": [
      "None\n"
     ]
    }
   ],
   "source": [
    "def reta(dados_x, dados_y):    \n",
    "    a = dados_y.cov(dados_x) / dados_x.var()\n",
    "    b = dados_y.mean() - a*dados_x.mean()\n",
    " \n",
    "    print('Ajuste linear entre X3 e X4:')\n",
    "    print('Coeficiente linear:', b)\n",
    "    print('Coeficiente angular:', a)\n",
    " \n",
    "    fig = plt.figure(figsize=(8, 6))\n",
    "    plt.scatter(dados_x, dados_y, c='red', alpha=0.8)\n",
    "    plt.title('Gráfico de Correlação')\n",
    "    plt.xlabel('Vehicles')\n",
    "    plt.ylabel('Internet users')\n",
    " \n",
    "    plt.plot((dados_x.min(), dados_x.max()), (a*dados_x.min()+b, a*dados_x.max()+b), color='blue')\n",
    " \n",
    "    plt.grid(True)\n",
    "    plt.tight_layout()\n",
    "    plt.show()\n",
    "    \n",
    "print (reta(data1['Vehicles'], data1['Internet users']))"
   ]
  },
  {
   "cell_type": "markdown",
   "metadata": {},
   "source": [
    "Taxa de correlação"
   ]
  },
  {
   "cell_type": "code",
   "execution_count": 549,
   "metadata": {},
   "outputs": [
    {
     "data": {
      "text/plain": [
       "0.8685971301067985"
      ]
     },
     "execution_count": 549,
     "metadata": {},
     "output_type": "execute_result"
    }
   ],
   "source": [
    "data1['Internet users'].corr(data1['Vehicles'])"
   ]
  },
  {
   "cell_type": "markdown",
   "metadata": {},
   "source": [
    "________________________________________________________________________________________________________________________________"
   ]
  },
  {
   "cell_type": "code",
   "execution_count": 550,
   "metadata": {},
   "outputs": [
    {
     "data": {
      "text/html": [
       "<div>\n",
       "<style scoped>\n",
       "    .dataframe tbody tr th:only-of-type {\n",
       "        vertical-align: middle;\n",
       "    }\n",
       "\n",
       "    .dataframe tbody tr th {\n",
       "        vertical-align: top;\n",
       "    }\n",
       "\n",
       "    .dataframe thead th {\n",
       "        text-align: right;\n",
       "    }\n",
       "</style>\n",
       "<table border=\"1\" class=\"dataframe\">\n",
       "  <thead>\n",
       "    <tr style=\"text-align: right;\">\n",
       "      <th></th>\n",
       "      <th>HDI</th>\n",
       "      <th>Internet users</th>\n",
       "      <th>Vehicles</th>\n",
       "    </tr>\n",
       "  </thead>\n",
       "  <tbody>\n",
       "    <tr>\n",
       "      <th>HDI</th>\n",
       "      <td>1.000000</td>\n",
       "      <td>0.826129</td>\n",
       "      <td>0.806240</td>\n",
       "    </tr>\n",
       "    <tr>\n",
       "      <th>Internet users</th>\n",
       "      <td>0.826129</td>\n",
       "      <td>1.000000</td>\n",
       "      <td>0.868597</td>\n",
       "    </tr>\n",
       "    <tr>\n",
       "      <th>Vehicles</th>\n",
       "      <td>0.806240</td>\n",
       "      <td>0.868597</td>\n",
       "      <td>1.000000</td>\n",
       "    </tr>\n",
       "  </tbody>\n",
       "</table>\n",
       "</div>"
      ],
      "text/plain": [
       "                     HDI  Internet users  Vehicles\n",
       "HDI             1.000000        0.826129  0.806240\n",
       "Internet users  0.826129        1.000000  0.868597\n",
       "Vehicles        0.806240        0.868597  1.000000"
      ]
     },
     "execution_count": 550,
     "metadata": {},
     "output_type": "execute_result"
    }
   ],
   "source": [
    "data1.corr()"
   ]
  },
  {
   "cell_type": "markdown",
   "metadata": {},
   "source": [
    "A partir da tabela que mostra as taxas de correlação entre os dois fatores facultativos, Internet users e Vehicles, com o IDH, conclui-se que ambos os temas escolhidos estão correlacionados com o índice de desenvolvimento humano dos países."
   ]
  },
  {
   "cell_type": "markdown",
   "metadata": {},
   "source": [
    "# Conclusão"
   ]
  },
  {
   "cell_type": "markdown",
   "metadata": {},
   "source": [
    "Os dados de correlação obtidos com o auxílio das ferramentas do pandas, o valor de aproximadamente 0,82 para IDH e Internet users, e aproximadamente 0,80 para IDH e Vehicles, mostram o quão relacionados esses fatores estão, não se restringindo apenas aos estudos da educação, saúde e renda, para análise do IDH."
   ]
  },
  {
   "cell_type": "markdown",
   "metadata": {},
   "source": [
    "A partir das análises dos gráficos, é possível concluir que a acessibilidade à internet e a disponibilidade de véiculos são realmente diretamente proporcionais ao IDH, o que confirma minhas duas hipóteses. A partir dos fatores analisados acima, algumas conclusões são bastante notórias , como identificar a proporcionalidade entre os temas, mas outras são passíveis de um campo subjetivo e que requerem um estudo mais complexo para responder, como os motivos dessa relação. Em suma, pode-se afirmar, que além dos conceitos que interferem diretamente no valor do IDH, outros também são bastante relevantes para compreender melhor os desenvolvimentos da maioria dos países. "
   ]
  },
  {
   "cell_type": "markdown",
   "metadata": {},
   "source": [
    "Além disso, outra questão pode ser discutida perante os resultados obtidos. Por mais que sejam assuntos completamente distintos, os resultados confirmam que quando compara-se os dados de veículos e usuários acessando a internet, percebe-se que o grupo de países com maiores índices no quesito internet, também é predominante na quantidade de veículos disponíveis na população. Sendo assim, conclui-se que países que se caracterizam por terem um sistema de transporte desenvolvido, também são apontados como aqueles que proporcionam a maior concentração ao acesso à informação para sua população. Entretanto, por mais que os temas se correlacionam, não é possível afirmar que exista uma relação concreta entre eles."
   ]
  },
  {
   "cell_type": "markdown",
   "metadata": {},
   "source": [
    "________________________________________________________________________________________________________________________________"
   ]
  },
  {
   "cell_type": "markdown",
   "metadata": {},
   "source": [
    "# Dados - 2002"
   ]
  },
  {
   "cell_type": "markdown",
   "metadata": {},
   "source": [
    "Mnter apenas os dado coletados em 2002"
   ]
  },
  {
   "cell_type": "code",
   "execution_count": 551,
   "metadata": {},
   "outputs": [],
   "source": [
    "idh_2002 = IDH.loc[:, [\"geo\", 2002]]\n",
    "\n",
    "internet_2002 = Internet.loc[:,[\"geo\", 2002]]\n",
    "\n",
    "veiculos_2002 = Veiculos.loc[:,[\"geo\", 2002]]"
   ]
  },
  {
   "cell_type": "markdown",
   "metadata": {},
   "source": [
    "Renomear colunas"
   ]
  },
  {
   "cell_type": "code",
   "execution_count": 552,
   "metadata": {},
   "outputs": [],
   "source": [
    "idh_2002.rename(columns={\"geo\": \"Country\"}, inplace = True)\n",
    "idh_idx2=idh_2002.set_index(\"Country\")\n",
    "\n",
    "\n",
    "internet_2002.rename(columns={\"geo\": \"Country\"}, inplace = True)\n",
    "internet_idx2=internet_2002.set_index(\"Country\")\n",
    "\n",
    "\n",
    "veiculos_2002.rename(columns={\"geo\": \"Country\"}, inplace = True)\n",
    "veiculos_idx2=veiculos_2002.set_index(\"Country\")"
   ]
  },
  {
   "cell_type": "code",
   "execution_count": 553,
   "metadata": {},
   "outputs": [],
   "source": [
    "idh_idx2.rename(columns={2002: \"HDI\"},inplace = True)\n",
    "\n",
    "internet_idx2.rename(columns={2002: \"Internet users\"},inplace = True)\n",
    "\n",
    "veiculos_idx2.rename(columns={2002: \"Vehicles\"},inplace = True)"
   ]
  },
  {
   "cell_type": "markdown",
   "metadata": {},
   "source": [
    "# Join"
   ]
  },
  {
   "cell_type": "code",
   "execution_count": 554,
   "metadata": {},
   "outputs": [],
   "source": [
    "df = idh_idx2.join(internet_idx2, how=\"inner\", lsuffix=\"_HDI\", rsuffix=\"_Internet users\")"
   ]
  },
  {
   "cell_type": "code",
   "execution_count": 555,
   "metadata": {},
   "outputs": [],
   "source": [
    "data = df.join(veiculos_idx2, how=\"inner\")"
   ]
  },
  {
   "cell_type": "code",
   "execution_count": 556,
   "metadata": {},
   "outputs": [
    {
     "data": {
      "text/html": [
       "<div>\n",
       "<style scoped>\n",
       "    .dataframe tbody tr th:only-of-type {\n",
       "        vertical-align: middle;\n",
       "    }\n",
       "\n",
       "    .dataframe tbody tr th {\n",
       "        vertical-align: top;\n",
       "    }\n",
       "\n",
       "    .dataframe thead th {\n",
       "        text-align: right;\n",
       "    }\n",
       "</style>\n",
       "<table border=\"1\" class=\"dataframe\">\n",
       "  <thead>\n",
       "    <tr style=\"text-align: right;\">\n",
       "      <th></th>\n",
       "      <th>HDI</th>\n",
       "      <th>Internet users</th>\n",
       "      <th>Vehicles</th>\n",
       "    </tr>\n",
       "    <tr>\n",
       "      <th>Country</th>\n",
       "      <th></th>\n",
       "      <th></th>\n",
       "      <th></th>\n",
       "    </tr>\n",
       "  </thead>\n",
       "  <tbody>\n",
       "    <tr>\n",
       "      <th>Niger</th>\n",
       "      <td>0.266</td>\n",
       "      <td>0.1270</td>\n",
       "      <td>5.0</td>\n",
       "    </tr>\n",
       "    <tr>\n",
       "      <th>Ethiopia</th>\n",
       "      <td>0.306</td>\n",
       "      <td>0.0724</td>\n",
       "      <td>2.0</td>\n",
       "    </tr>\n",
       "    <tr>\n",
       "      <th>Sierra Leone</th>\n",
       "      <td>0.322</td>\n",
       "      <td>0.1760</td>\n",
       "      <td>4.0</td>\n",
       "    </tr>\n",
       "    <tr>\n",
       "      <th>Gambia</th>\n",
       "      <td>0.395</td>\n",
       "      <td>1.8000</td>\n",
       "      <td>8.0</td>\n",
       "    </tr>\n",
       "    <tr>\n",
       "      <th>Kenya</th>\n",
       "      <td>0.450</td>\n",
       "      <td>1.2100</td>\n",
       "      <td>17.0</td>\n",
       "    </tr>\n",
       "    <tr>\n",
       "      <th>Pakistan</th>\n",
       "      <td>0.465</td>\n",
       "      <td>2.5800</td>\n",
       "      <td>8.0</td>\n",
       "    </tr>\n",
       "    <tr>\n",
       "      <th>Lao</th>\n",
       "      <td>0.477</td>\n",
       "      <td>0.2680</td>\n",
       "      <td>57.0</td>\n",
       "    </tr>\n",
       "    <tr>\n",
       "      <th>Ghana</th>\n",
       "      <td>0.489</td>\n",
       "      <td>0.8300</td>\n",
       "      <td>19.0</td>\n",
       "    </tr>\n",
       "    <tr>\n",
       "      <th>Swaziland</th>\n",
       "      <td>0.493</td>\n",
       "      <td>1.8200</td>\n",
       "      <td>82.0</td>\n",
       "    </tr>\n",
       "    <tr>\n",
       "      <th>India</th>\n",
       "      <td>0.505</td>\n",
       "      <td>1.5400</td>\n",
       "      <td>11.0</td>\n",
       "    </tr>\n",
       "    <tr>\n",
       "      <th>Namibia</th>\n",
       "      <td>0.554</td>\n",
       "      <td>2.6300</td>\n",
       "      <td>85.0</td>\n",
       "    </tr>\n",
       "    <tr>\n",
       "      <th>Botswana</th>\n",
       "      <td>0.567</td>\n",
       "      <td>3.3900</td>\n",
       "      <td>85.0</td>\n",
       "    </tr>\n",
       "    <tr>\n",
       "      <th>Nicaragua</th>\n",
       "      <td>0.583</td>\n",
       "      <td>1.7100</td>\n",
       "      <td>39.0</td>\n",
       "    </tr>\n",
       "    <tr>\n",
       "      <th>Vietnam</th>\n",
       "      <td>0.592</td>\n",
       "      <td>1.8500</td>\n",
       "      <td>8.0</td>\n",
       "    </tr>\n",
       "    <tr>\n",
       "      <th>Syria</th>\n",
       "      <td>0.599</td>\n",
       "      <td>2.0900</td>\n",
       "      <td>34.7</td>\n",
       "    </tr>\n",
       "    <tr>\n",
       "      <th>Mongolia</th>\n",
       "      <td>0.609</td>\n",
       "      <td>2.0400</td>\n",
       "      <td>42.0</td>\n",
       "    </tr>\n",
       "    <tr>\n",
       "      <th>China</th>\n",
       "      <td>0.610</td>\n",
       "      <td>4.6000</td>\n",
       "      <td>13.0</td>\n",
       "    </tr>\n",
       "    <tr>\n",
       "      <th>Indonesia</th>\n",
       "      <td>0.613</td>\n",
       "      <td>2.1300</td>\n",
       "      <td>109.0</td>\n",
       "    </tr>\n",
       "    <tr>\n",
       "      <th>South Africa</th>\n",
       "      <td>0.613</td>\n",
       "      <td>6.7100</td>\n",
       "      <td>144.0</td>\n",
       "    </tr>\n",
       "    <tr>\n",
       "      <th>Moldova</th>\n",
       "      <td>0.617</td>\n",
       "      <td>3.7900</td>\n",
       "      <td>81.0</td>\n",
       "    </tr>\n",
       "    <tr>\n",
       "      <th>Philippines</th>\n",
       "      <td>0.631</td>\n",
       "      <td>4.3300</td>\n",
       "      <td>35.0</td>\n",
       "    </tr>\n",
       "    <tr>\n",
       "      <th>Azerbaijan</th>\n",
       "      <td>0.659</td>\n",
       "      <td>5.0000</td>\n",
       "      <td>58.0</td>\n",
       "    </tr>\n",
       "    <tr>\n",
       "      <th>Dominican Republic</th>\n",
       "      <td>0.665</td>\n",
       "      <td>6.8200</td>\n",
       "      <td>111.0</td>\n",
       "    </tr>\n",
       "    <tr>\n",
       "      <th>Tunisia</th>\n",
       "      <td>0.667</td>\n",
       "      <td>5.2500</td>\n",
       "      <td>89.0</td>\n",
       "    </tr>\n",
       "    <tr>\n",
       "      <th>Turkey</th>\n",
       "      <td>0.668</td>\n",
       "      <td>11.4000</td>\n",
       "      <td>90.0</td>\n",
       "    </tr>\n",
       "    <tr>\n",
       "      <th>Albania</th>\n",
       "      <td>0.674</td>\n",
       "      <td>0.3900</td>\n",
       "      <td>73.0</td>\n",
       "    </tr>\n",
       "    <tr>\n",
       "      <th>St. Vincent and the Grenadines</th>\n",
       "      <td>0.682</td>\n",
       "      <td>5.5500</td>\n",
       "      <td>126.0</td>\n",
       "    </tr>\n",
       "    <tr>\n",
       "      <th>Belize</th>\n",
       "      <td>0.684</td>\n",
       "      <td>5.6800</td>\n",
       "      <td>155.0</td>\n",
       "    </tr>\n",
       "    <tr>\n",
       "      <th>Georgia</th>\n",
       "      <td>0.684</td>\n",
       "      <td>1.5900</td>\n",
       "      <td>70.0</td>\n",
       "    </tr>\n",
       "    <tr>\n",
       "      <th>Peru</th>\n",
       "      <td>0.686</td>\n",
       "      <td>8.9700</td>\n",
       "      <td>47.0</td>\n",
       "    </tr>\n",
       "    <tr>\n",
       "      <th>...</th>\n",
       "      <td>...</td>\n",
       "      <td>...</td>\n",
       "      <td>...</td>\n",
       "    </tr>\n",
       "    <tr>\n",
       "      <th>Malta</th>\n",
       "      <td>0.790</td>\n",
       "      <td>28.9000</td>\n",
       "      <td>617.0</td>\n",
       "    </tr>\n",
       "    <tr>\n",
       "      <th>Poland</th>\n",
       "      <td>0.796</td>\n",
       "      <td>21.1000</td>\n",
       "      <td>347.0</td>\n",
       "    </tr>\n",
       "    <tr>\n",
       "      <th>Bahrain</th>\n",
       "      <td>0.798</td>\n",
       "      <td>18.1000</td>\n",
       "      <td>382.0</td>\n",
       "    </tr>\n",
       "    <tr>\n",
       "      <th>Estonia</th>\n",
       "      <td>0.798</td>\n",
       "      <td>41.5000</td>\n",
       "      <td>358.0</td>\n",
       "    </tr>\n",
       "    <tr>\n",
       "      <th>Cyprus</th>\n",
       "      <td>0.815</td>\n",
       "      <td>28.3000</td>\n",
       "      <td>506.0</td>\n",
       "    </tr>\n",
       "    <tr>\n",
       "      <th>Qatar</th>\n",
       "      <td>0.815</td>\n",
       "      <td>10.2000</td>\n",
       "      <td>508.0</td>\n",
       "    </tr>\n",
       "    <tr>\n",
       "      <th>Singapore</th>\n",
       "      <td>0.819</td>\n",
       "      <td>47.0000</td>\n",
       "      <td>133.0</td>\n",
       "    </tr>\n",
       "    <tr>\n",
       "      <th>Greece</th>\n",
       "      <td>0.823</td>\n",
       "      <td>14.7000</td>\n",
       "      <td>435.0</td>\n",
       "    </tr>\n",
       "    <tr>\n",
       "      <th>Spain</th>\n",
       "      <td>0.830</td>\n",
       "      <td>20.4000</td>\n",
       "      <td>559.0</td>\n",
       "    </tr>\n",
       "    <tr>\n",
       "      <th>Czech Republic</th>\n",
       "      <td>0.833</td>\n",
       "      <td>23.9000</td>\n",
       "      <td>394.0</td>\n",
       "    </tr>\n",
       "    <tr>\n",
       "      <th>South Korea</th>\n",
       "      <td>0.835</td>\n",
       "      <td>59.4000</td>\n",
       "      <td>293.0</td>\n",
       "    </tr>\n",
       "    <tr>\n",
       "      <th>Austria</th>\n",
       "      <td>0.837</td>\n",
       "      <td>36.6000</td>\n",
       "      <td>588.0</td>\n",
       "    </tr>\n",
       "    <tr>\n",
       "      <th>Italy</th>\n",
       "      <td>0.841</td>\n",
       "      <td>28.0000</td>\n",
       "      <td>653.0</td>\n",
       "    </tr>\n",
       "    <tr>\n",
       "      <th>Slovenia</th>\n",
       "      <td>0.843</td>\n",
       "      <td>27.8000</td>\n",
       "      <td>484.0</td>\n",
       "    </tr>\n",
       "    <tr>\n",
       "      <th>France</th>\n",
       "      <td>0.852</td>\n",
       "      <td>30.2000</td>\n",
       "      <td>593.0</td>\n",
       "    </tr>\n",
       "    <tr>\n",
       "      <th>Japan</th>\n",
       "      <td>0.863</td>\n",
       "      <td>46.6000</td>\n",
       "      <td>582.0</td>\n",
       "    </tr>\n",
       "    <tr>\n",
       "      <th>Israel</th>\n",
       "      <td>0.863</td>\n",
       "      <td>17.8000</td>\n",
       "      <td>286.0</td>\n",
       "    </tr>\n",
       "    <tr>\n",
       "      <th>Luxembourg</th>\n",
       "      <td>0.865</td>\n",
       "      <td>39.8000</td>\n",
       "      <td>712.0</td>\n",
       "    </tr>\n",
       "    <tr>\n",
       "      <th>Iceland</th>\n",
       "      <td>0.866</td>\n",
       "      <td>79.1000</td>\n",
       "      <td>638.0</td>\n",
       "    </tr>\n",
       "    <tr>\n",
       "      <th>Ireland</th>\n",
       "      <td>0.870</td>\n",
       "      <td>25.9000</td>\n",
       "      <td>436.0</td>\n",
       "    </tr>\n",
       "    <tr>\n",
       "      <th>Germany</th>\n",
       "      <td>0.872</td>\n",
       "      <td>48.8000</td>\n",
       "      <td>576.0</td>\n",
       "    </tr>\n",
       "    <tr>\n",
       "      <th>United Kingdom</th>\n",
       "      <td>0.874</td>\n",
       "      <td>56.5000</td>\n",
       "      <td>505.0</td>\n",
       "    </tr>\n",
       "    <tr>\n",
       "      <th>Canada</th>\n",
       "      <td>0.877</td>\n",
       "      <td>61.6000</td>\n",
       "      <td>582.0</td>\n",
       "    </tr>\n",
       "    <tr>\n",
       "      <th>Belgium</th>\n",
       "      <td>0.878</td>\n",
       "      <td>46.3000</td>\n",
       "      <td>526.0</td>\n",
       "    </tr>\n",
       "    <tr>\n",
       "      <th>Netherlands</th>\n",
       "      <td>0.881</td>\n",
       "      <td>61.3000</td>\n",
       "      <td>486.0</td>\n",
       "    </tr>\n",
       "    <tr>\n",
       "      <th>New Zealand</th>\n",
       "      <td>0.881</td>\n",
       "      <td>59.1000</td>\n",
       "      <td>738.0</td>\n",
       "    </tr>\n",
       "    <tr>\n",
       "      <th>Sweden</th>\n",
       "      <td>0.882</td>\n",
       "      <td>70.6000</td>\n",
       "      <td>501.0</td>\n",
       "    </tr>\n",
       "    <tr>\n",
       "      <th>Denmark</th>\n",
       "      <td>0.882</td>\n",
       "      <td>64.3000</td>\n",
       "      <td>424.0</td>\n",
       "    </tr>\n",
       "    <tr>\n",
       "      <th>Switzerland</th>\n",
       "      <td>0.889</td>\n",
       "      <td>61.4000</td>\n",
       "      <td>550.0</td>\n",
       "    </tr>\n",
       "    <tr>\n",
       "      <th>Norway</th>\n",
       "      <td>0.918</td>\n",
       "      <td>72.8000</td>\n",
       "      <td>521.0</td>\n",
       "    </tr>\n",
       "  </tbody>\n",
       "</table>\n",
       "<p>77 rows × 3 columns</p>\n",
       "</div>"
      ],
      "text/plain": [
       "                                  HDI  Internet users  Vehicles\n",
       "Country                                                        \n",
       "Niger                           0.266          0.1270       5.0\n",
       "Ethiopia                        0.306          0.0724       2.0\n",
       "Sierra Leone                    0.322          0.1760       4.0\n",
       "Gambia                          0.395          1.8000       8.0\n",
       "Kenya                           0.450          1.2100      17.0\n",
       "Pakistan                        0.465          2.5800       8.0\n",
       "Lao                             0.477          0.2680      57.0\n",
       "Ghana                           0.489          0.8300      19.0\n",
       "Swaziland                       0.493          1.8200      82.0\n",
       "India                           0.505          1.5400      11.0\n",
       "Namibia                         0.554          2.6300      85.0\n",
       "Botswana                        0.567          3.3900      85.0\n",
       "Nicaragua                       0.583          1.7100      39.0\n",
       "Vietnam                         0.592          1.8500       8.0\n",
       "Syria                           0.599          2.0900      34.7\n",
       "Mongolia                        0.609          2.0400      42.0\n",
       "China                           0.610          4.6000      13.0\n",
       "Indonesia                       0.613          2.1300     109.0\n",
       "South Africa                    0.613          6.7100     144.0\n",
       "Moldova                         0.617          3.7900      81.0\n",
       "Philippines                     0.631          4.3300      35.0\n",
       "Azerbaijan                      0.659          5.0000      58.0\n",
       "Dominican Republic              0.665          6.8200     111.0\n",
       "Tunisia                         0.667          5.2500      89.0\n",
       "Turkey                          0.668         11.4000      90.0\n",
       "Albania                         0.674          0.3900      73.0\n",
       "St. Vincent and the Grenadines  0.682          5.5500     126.0\n",
       "Belize                          0.684          5.6800     155.0\n",
       "Georgia                         0.684          1.5900      70.0\n",
       "Peru                            0.686          8.9700      47.0\n",
       "...                               ...             ...       ...\n",
       "Malta                           0.790         28.9000     617.0\n",
       "Poland                          0.796         21.1000     347.0\n",
       "Bahrain                         0.798         18.1000     382.0\n",
       "Estonia                         0.798         41.5000     358.0\n",
       "Cyprus                          0.815         28.3000     506.0\n",
       "Qatar                           0.815         10.2000     508.0\n",
       "Singapore                       0.819         47.0000     133.0\n",
       "Greece                          0.823         14.7000     435.0\n",
       "Spain                           0.830         20.4000     559.0\n",
       "Czech Republic                  0.833         23.9000     394.0\n",
       "South Korea                     0.835         59.4000     293.0\n",
       "Austria                         0.837         36.6000     588.0\n",
       "Italy                           0.841         28.0000     653.0\n",
       "Slovenia                        0.843         27.8000     484.0\n",
       "France                          0.852         30.2000     593.0\n",
       "Japan                           0.863         46.6000     582.0\n",
       "Israel                          0.863         17.8000     286.0\n",
       "Luxembourg                      0.865         39.8000     712.0\n",
       "Iceland                         0.866         79.1000     638.0\n",
       "Ireland                         0.870         25.9000     436.0\n",
       "Germany                         0.872         48.8000     576.0\n",
       "United Kingdom                  0.874         56.5000     505.0\n",
       "Canada                          0.877         61.6000     582.0\n",
       "Belgium                         0.878         46.3000     526.0\n",
       "Netherlands                     0.881         61.3000     486.0\n",
       "New Zealand                     0.881         59.1000     738.0\n",
       "Sweden                          0.882         70.6000     501.0\n",
       "Denmark                         0.882         64.3000     424.0\n",
       "Switzerland                     0.889         61.4000     550.0\n",
       "Norway                          0.918         72.8000     521.0\n",
       "\n",
       "[77 rows x 3 columns]"
      ]
     },
     "execution_count": 556,
     "metadata": {},
     "output_type": "execute_result"
    }
   ],
   "source": [
    "data.sort_values(by='HDI', ascending=True).dropna()"
   ]
  },
  {
   "cell_type": "code",
   "execution_count": 557,
   "metadata": {},
   "outputs": [
    {
     "data": {
      "text/html": [
       "<div>\n",
       "<style scoped>\n",
       "    .dataframe tbody tr th:only-of-type {\n",
       "        vertical-align: middle;\n",
       "    }\n",
       "\n",
       "    .dataframe tbody tr th {\n",
       "        vertical-align: top;\n",
       "    }\n",
       "\n",
       "    .dataframe thead th {\n",
       "        text-align: right;\n",
       "    }\n",
       "</style>\n",
       "<table border=\"1\" class=\"dataframe\">\n",
       "  <thead>\n",
       "    <tr style=\"text-align: right;\">\n",
       "      <th></th>\n",
       "      <th>HDI</th>\n",
       "      <th>Internet users</th>\n",
       "      <th>Vehicles</th>\n",
       "    </tr>\n",
       "    <tr>\n",
       "      <th>Country</th>\n",
       "      <th></th>\n",
       "      <th></th>\n",
       "      <th></th>\n",
       "    </tr>\n",
       "  </thead>\n",
       "  <tbody>\n",
       "    <tr>\n",
       "      <th>Burundi</th>\n",
       "      <td>0.319</td>\n",
       "      <td>0.700</td>\n",
       "      <td>5.670</td>\n",
       "    </tr>\n",
       "    <tr>\n",
       "      <th>Central African Republic</th>\n",
       "      <td>0.338</td>\n",
       "      <td>0.376</td>\n",
       "      <td>0.295</td>\n",
       "    </tr>\n",
       "    <tr>\n",
       "      <th>Burkina Faso</th>\n",
       "      <td>0.345</td>\n",
       "      <td>0.750</td>\n",
       "      <td>10.800</td>\n",
       "    </tr>\n",
       "    <tr>\n",
       "      <th>Mali</th>\n",
       "      <td>0.360</td>\n",
       "      <td>0.810</td>\n",
       "      <td>9.220</td>\n",
       "    </tr>\n",
       "    <tr>\n",
       "      <th>Sierra Leone</th>\n",
       "      <td>0.367</td>\n",
       "      <td>0.240</td>\n",
       "      <td>5.210</td>\n",
       "    </tr>\n",
       "  </tbody>\n",
       "</table>\n",
       "</div>"
      ],
      "text/plain": [
       "                            HDI  Internet users  Vehicles\n",
       "Country                                                  \n",
       "Burundi                   0.319           0.700     5.670\n",
       "Central African Republic  0.338           0.376     0.295\n",
       "Burkina Faso              0.345           0.750    10.800\n",
       "Mali                      0.360           0.810     9.220\n",
       "Sierra Leone              0.367           0.240     5.210"
      ]
     },
     "execution_count": 557,
     "metadata": {},
     "output_type": "execute_result"
    }
   ],
   "source": [
    "dados.head()"
   ]
  },
  {
   "cell_type": "code",
   "execution_count": 558,
   "metadata": {},
   "outputs": [
    {
     "data": {
      "text/html": [
       "<div>\n",
       "<style scoped>\n",
       "    .dataframe tbody tr th:only-of-type {\n",
       "        vertical-align: middle;\n",
       "    }\n",
       "\n",
       "    .dataframe tbody tr th {\n",
       "        vertical-align: top;\n",
       "    }\n",
       "\n",
       "    .dataframe thead th {\n",
       "        text-align: right;\n",
       "    }\n",
       "</style>\n",
       "<table border=\"1\" class=\"dataframe\">\n",
       "  <thead>\n",
       "    <tr style=\"text-align: right;\">\n",
       "      <th></th>\n",
       "      <th>HDI</th>\n",
       "      <th>Internet users</th>\n",
       "      <th>Vehicles</th>\n",
       "    </tr>\n",
       "    <tr>\n",
       "      <th>Country</th>\n",
       "      <th></th>\n",
       "      <th></th>\n",
       "      <th></th>\n",
       "    </tr>\n",
       "  </thead>\n",
       "  <tbody>\n",
       "    <tr>\n",
       "      <th>Denmark</th>\n",
       "      <td>0.906</td>\n",
       "      <td>85.0</td>\n",
       "      <td>466.0</td>\n",
       "    </tr>\n",
       "    <tr>\n",
       "      <th>Ireland</th>\n",
       "      <td>0.908</td>\n",
       "      <td>61.2</td>\n",
       "      <td>537.0</td>\n",
       "    </tr>\n",
       "    <tr>\n",
       "      <th>Switzerland</th>\n",
       "      <td>0.914</td>\n",
       "      <td>77.2</td>\n",
       "      <td>569.0</td>\n",
       "    </tr>\n",
       "    <tr>\n",
       "      <th>Australia</th>\n",
       "      <td>0.921</td>\n",
       "      <td>69.5</td>\n",
       "      <td>653.0</td>\n",
       "    </tr>\n",
       "    <tr>\n",
       "      <th>Norway</th>\n",
       "      <td>0.936</td>\n",
       "      <td>86.9</td>\n",
       "      <td>572.0</td>\n",
       "    </tr>\n",
       "  </tbody>\n",
       "</table>\n",
       "</div>"
      ],
      "text/plain": [
       "               HDI  Internet users  Vehicles\n",
       "Country                                     \n",
       "Denmark      0.906            85.0     466.0\n",
       "Ireland      0.908            61.2     537.0\n",
       "Switzerland  0.914            77.2     569.0\n",
       "Australia    0.921            69.5     653.0\n",
       "Norway       0.936            86.9     572.0"
      ]
     },
     "execution_count": 558,
     "metadata": {},
     "output_type": "execute_result"
    }
   ],
   "source": [
    "dados.tail()"
   ]
  },
  {
   "cell_type": "markdown",
   "metadata": {},
   "source": [
    "# Medidas descritivas"
   ]
  },
  {
   "cell_type": "markdown",
   "metadata": {},
   "source": [
    "# HDI"
   ]
  },
  {
   "cell_type": "code",
   "execution_count": 559,
   "metadata": {},
   "outputs": [
    {
     "data": {
      "text/plain": [
       "count    144.000000\n",
       "mean       0.650444\n",
       "std        0.170972\n",
       "min        0.266000\n",
       "25%        0.539500\n",
       "50%        0.684000\n",
       "75%        0.788250\n",
       "max        0.918000\n",
       "Name: HDI, dtype: float64"
      ]
     },
     "execution_count": 559,
     "metadata": {},
     "output_type": "execute_result"
    }
   ],
   "source": [
    "data[\"HDI\"].describe()"
   ]
  },
  {
   "cell_type": "markdown",
   "metadata": {},
   "source": [
    "# Internet users"
   ]
  },
  {
   "cell_type": "code",
   "execution_count": 560,
   "metadata": {},
   "outputs": [
    {
     "data": {
      "text/plain": [
       "count    153.000000\n",
       "mean      13.359787\n",
       "std       18.747093\n",
       "min        0.000430\n",
       "25%        1.210000\n",
       "50%        4.600000\n",
       "75%       18.000000\n",
       "max       79.100000\n",
       "Name: Internet users, dtype: float64"
      ]
     },
     "execution_count": 560,
     "metadata": {},
     "output_type": "execute_result"
    }
   ],
   "source": [
    "data[\"Internet users\"].describe()"
   ]
  },
  {
   "cell_type": "markdown",
   "metadata": {},
   "source": [
    "# Vehicles"
   ]
  },
  {
   "cell_type": "code",
   "execution_count": 561,
   "metadata": {},
   "outputs": [
    {
     "data": {
      "text/plain": [
       "count     80.00000\n",
       "mean     255.04625\n",
       "std      220.69212\n",
       "min        1.00000\n",
       "25%       67.00000\n",
       "50%      150.50000\n",
       "75%      448.00000\n",
       "max      738.00000\n",
       "Name: Vehicles, dtype: float64"
      ]
     },
     "execution_count": 561,
     "metadata": {},
     "output_type": "execute_result"
    }
   ],
   "source": [
    "data[\"Vehicles\"].describe()"
   ]
  },
  {
   "cell_type": "markdown",
   "metadata": {},
   "source": [
    "# Gráficos de Dispersão e Correlação"
   ]
  },
  {
   "cell_type": "markdown",
   "metadata": {},
   "source": [
    "HDI x Internet users"
   ]
  },
  {
   "cell_type": "code",
   "execution_count": 562,
   "metadata": {},
   "outputs": [
    {
     "data": {
      "image/png": "[encoded data removed]",
      "text/plain": [
       "<matplotlib.figure.Figure at 0x2598c3d8358>"
      ]
     },
     "metadata": {},
     "output_type": "display_data"
    }
   ],
   "source": [
    "data.plot.scatter(x='Internet users', y='HDI');\n",
    "plt.title('Gráfico de Dispersão');\n",
    "plt.grid(True);"
   ]
  },
  {
   "cell_type": "code",
   "execution_count": 563,
   "metadata": {},
   "outputs": [
    {
     "name": "stdout",
     "output_type": "stream",
     "text": [
      "Ajuste linear entre X3 e X4:\n",
      "Coeficiente linear: 0.5599360499115421\n",
      "Coeficiente angular: 0.006774688508339371\n"
     ]
    },
    {
     "data": {
      "image/png": "[encoded data removed]",
      "text/plain": [
       "<matplotlib.figure.Figure at 0x2598c3ff2b0>"
      ]
     },
     "metadata": {},
     "output_type": "display_data"
    },
    {
     "name": "stdout",
     "output_type": "stream",
     "text": [
      "None\n"
     ]
    }
   ],
   "source": [
    "def reta(dados_x, dados_y):    \n",
    "    a = dados_y.cov(dados_x) / dados_x.var()\n",
    "    b = dados_y.mean() - a*dados_x.mean()\n",
    " \n",
    "    print('Ajuste linear entre X3 e X4:')\n",
    "    print('Coeficiente linear:', b)\n",
    "    print('Coeficiente angular:', a)\n",
    " \n",
    "    fig = plt.figure(figsize=(8, 6))\n",
    "    plt.scatter(dados_x, dados_y, c='red', alpha=0.8)\n",
    "    plt.title('Gráfico de Correlação')\n",
    "    plt.xlabel('Internet users')\n",
    "    plt.ylabel('HDI')\n",
    " \n",
    "    plt.plot((dados_x.min(), dados_x.max()), (a*dados_x.min()+b, a*dados_x.max()+b), color='blue')\n",
    " \n",
    "    plt.grid(True)\n",
    "    plt.tight_layout()\n",
    "    plt.show()\n",
    "    \n",
    "print (reta(data['Internet users'], data['HDI']))"
   ]
  },
  {
   "cell_type": "markdown",
   "metadata": {},
   "source": [
    "Taxa de correlação"
   ]
  },
  {
   "cell_type": "code",
   "execution_count": 564,
   "metadata": {},
   "outputs": [
    {
     "data": {
      "text/plain": [
       "0.7230049534861622"
      ]
     },
     "execution_count": 564,
     "metadata": {},
     "output_type": "execute_result"
    }
   ],
   "source": [
    "data['HDI'].corr(data['Internet users'])"
   ]
  },
  {
   "cell_type": "markdown",
   "metadata": {},
   "source": [
    "________________________________________________________________________________________________________________________________"
   ]
  },
  {
   "cell_type": "markdown",
   "metadata": {},
   "source": [
    "HDI x Vehicles"
   ]
  },
  {
   "cell_type": "code",
   "execution_count": 565,
   "metadata": {},
   "outputs": [
    {
     "data": {
      "image/png": "[encoded data removed]",
      "text/plain": [
       "<matplotlib.figure.Figure at 0x2598c6e8160>"
      ]
     },
     "metadata": {},
     "output_type": "display_data"
    }
   ],
   "source": [
    "data.plot.scatter(x='Vehicles', y='HDI');\n",
    "plt.title('Gráfico de Dispersão');\n",
    "plt.grid(True);"
   ]
  },
  {
   "cell_type": "code",
   "execution_count": 566,
   "metadata": {},
   "outputs": [
    {
     "name": "stdout",
     "output_type": "stream",
     "text": [
      "Ajuste linear entre X3 e X4:\n",
      "Coeficiente linear: 0.5082296368314959\n",
      "Coeficiente angular: 0.0005576039938362107\n"
     ]
    },
    {
     "data": {
      "image/png": "[encoded data removed]",
      "text/plain": [
       "<matplotlib.figure.Figure at 0x2598c0dc400>"
      ]
     },
     "metadata": {},
     "output_type": "display_data"
    },
    {
     "name": "stdout",
     "output_type": "stream",
     "text": [
      "None\n"
     ]
    }
   ],
   "source": [
    "def reta(dados_x, dados_y):    \n",
    "    a = dados_y.cov(dados_x) / dados_x.var()\n",
    "    b = dados_y.mean() - a*dados_x.mean()\n",
    " \n",
    "    print('Ajuste linear entre X3 e X4:')\n",
    "    print('Coeficiente linear:', b)\n",
    "    print('Coeficiente angular:', a)\n",
    " \n",
    "    fig = plt.figure(figsize=(8, 6))\n",
    "    plt.scatter(dados_x, dados_y, c='red', alpha=0.8)\n",
    "    plt.title('Gráfico de Correlação')\n",
    "    plt.xlabel('Vehicles')\n",
    "    plt.ylabel('HDI')\n",
    " \n",
    "    plt.plot((dados_x.min(), dados_x.max()), (a*dados_x.min()+b, a*dados_x.max()+b), color='blue')\n",
    " \n",
    "    plt.grid(True)\n",
    "    plt.tight_layout()\n",
    "    plt.show()\n",
    "    \n",
    "print (reta(data['Vehicles'], data['HDI']))"
   ]
  },
  {
   "cell_type": "markdown",
   "metadata": {},
   "source": [
    "Taxa de correlação"
   ]
  },
  {
   "cell_type": "code",
   "execution_count": 567,
   "metadata": {},
   "outputs": [
    {
     "data": {
      "text/plain": [
       "0.8152304231993586"
      ]
     },
     "execution_count": 567,
     "metadata": {},
     "output_type": "execute_result"
    }
   ],
   "source": [
    "data['HDI'].corr(data['Vehicles'])"
   ]
  },
  {
   "cell_type": "markdown",
   "metadata": {},
   "source": [
    "________________________________________________________________________________________________________________________________"
   ]
  },
  {
   "cell_type": "markdown",
   "metadata": {},
   "source": [
    "Internet users x Vehicles"
   ]
  },
  {
   "cell_type": "code",
   "execution_count": 568,
   "metadata": {},
   "outputs": [
    {
     "data": {
      "image/png": "[encoded data removed]",
      "text/plain": [
       "<matplotlib.figure.Figure at 0x25989c6d8d0>"
      ]
     },
     "metadata": {},
     "output_type": "display_data"
    }
   ],
   "source": [
    "data.plot.scatter(x='Vehicles', y='Internet users');\n",
    "plt.title('Gráfico de Dispersão');\n",
    "plt.grid(True);"
   ]
  },
  {
   "cell_type": "code",
   "execution_count": 569,
   "metadata": {},
   "outputs": [
    {
     "name": "stdout",
     "output_type": "stream",
     "text": [
      "Ajuste linear entre X3 e X4:\n",
      "Coeficiente linear: -6.28567873770354\n",
      "Coeficiente angular: 0.07702707097418068\n"
     ]
    },
    {
     "data": {
      "image/png": "[encoded data removed]",
      "text/plain": [
       "<matplotlib.figure.Figure at 0x2598bffe080>"
      ]
     },
     "metadata": {},
     "output_type": "display_data"
    },
    {
     "name": "stdout",
     "output_type": "stream",
     "text": [
      "None\n"
     ]
    }
   ],
   "source": [
    "def reta(dados_x, dados_y):    \n",
    "    a = dados_y.cov(dados_x) / dados_x.var()\n",
    "    b = dados_y.mean() - a*dados_x.mean()\n",
    " \n",
    "    print('Ajuste linear entre X3 e X4:')\n",
    "    print('Coeficiente linear:', b)\n",
    "    print('Coeficiente angular:', a)\n",
    " \n",
    "    fig = plt.figure(figsize=(8, 6))\n",
    "    plt.scatter(dados_x, dados_y, c='red', alpha=0.8)\n",
    "    plt.title('Gráfico de Correlação')\n",
    "    plt.xlabel('Vehicles')\n",
    "    plt.ylabel('Internet users')\n",
    " \n",
    "    plt.plot((dados_x.min(), dados_x.max()), (a*dados_x.min()+b, a*dados_x.max()+b), color='blue')\n",
    " \n",
    "    plt.grid(True)\n",
    "    plt.tight_layout()\n",
    "    plt.show()\n",
    "    \n",
    "print (reta(data['Vehicles'], data['Internet users']))"
   ]
  },
  {
   "cell_type": "markdown",
   "metadata": {},
   "source": [
    "Taxa de correlação"
   ]
  },
  {
   "cell_type": "code",
   "execution_count": 570,
   "metadata": {},
   "outputs": [
    {
     "data": {
      "text/plain": [
       "0.7909845616100522"
      ]
     },
     "execution_count": 570,
     "metadata": {},
     "output_type": "execute_result"
    }
   ],
   "source": [
    "data['Internet users'].corr(data['Vehicles'])"
   ]
  },
  {
   "cell_type": "markdown",
   "metadata": {},
   "source": [
    "________________________________________________________________________________________________________________________________"
   ]
  },
  {
   "cell_type": "markdown",
   "metadata": {},
   "source": [
    "# Conclusão comparativa"
   ]
  },
  {
   "cell_type": "markdown",
   "metadata": {},
   "source": [
    "Segundo as análises das mesmas variáveis, porém levando em consideração o ano de 2002, percebe-se uma leve diferença nos índices de internet e veículos. No início do século 21, o acesso à informação digital era restrita à países altamente desenvolvidos, tornando-se uma peculiaridade e um fator de desequilíbrio às outras nações, já que esse mecanismo potencializa o crescimento econômico, social e político de uma região. Além disso, havia uma certa disparidade nos sistemas de transporte das nações mundiais, justificada pelo baixo desenvolvimento tecnológico, econômico e político da maioria dos países. "
   ]
  },
  {
   "cell_type": "markdown",
   "metadata": {},
   "source": [
    "Outra conclusão que filtra-se dos resultados obtidos em 2002, resume-se nas taxas de correlação entre as 3 variáveis. Em apenas 5 anos, é notório o avanço das nações nos quesitos: acesso à internet e sistema de transporte, em especial, daquelas que não apresentavam qualquer índice de relevância concreta. Assim, a discrepância dos valores apresentados em cada país, dimimuiu a taxa de correlação em comparação com o IDH, uma vez que em 5 anos, o índice de desenvolvimento humano manteve-se praticamente o mesmo em todas as regiões no ano de 2007. Em compensação, a taxa de correlação entre o acesso à informação digital e a disponibilidade de veículo para a população aumentou."
   ]
  },
  {
   "cell_type": "markdown",
   "metadata": {},
   "source": [
    "Dessa modo, pode-se resumir que a correlação existe, mas são agentes coadjuvantes no estudo do IDH."
   ]
  }
 ],
 "metadata": {
  "kernelspec": {
   "display_name": "Python 3",
   "language": "python",
   "name": "python3"
  },
  "language_info": {
   "codemirror_mode": {
    "name": "ipython",
    "version": 3
   },
   "file_extension": ".py",
   "mimetype": "text/x-python",
   "name": "python",
   "nbconvert_exporter": "python",
   "pygments_lexer": "ipython3",
   "version": "3.6.4"
  }
 },
 "nbformat": 4,
 "nbformat_minor": 2
}
